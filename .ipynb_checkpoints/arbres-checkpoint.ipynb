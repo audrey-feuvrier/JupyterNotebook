{
 "cells": [
  {
   "cell_type": "markdown",
   "id": "closed-jungle",
   "metadata": {},
   "source": [
    "# Exploration préliminaire\n",
    "\n",
    "Extraire l’ensemble des lignes (rows) et stocker ces informations dans une variable de type List \n",
    "○ Doc officielle sur les csv : \n",
    "https://docs.python.org/3/library/csv.html \n",
    "○ Doc officielle sur les list (tutoriel) : \n",
    "https://docs.python.org/fr/3/tutorial/introduction.html#lists "
   ]
  },
  {
   "cell_type": "code",
   "execution_count": 1,
   "id": "complicated-collaboration",
   "metadata": {},
   "outputs": [
    {
     "name": "stdout",
     "output_type": "stream",
     "text": [
      "The Zen of Python, by Tim Peters\n",
      "\n",
      "Beautiful is better than ugly.\n",
      "Explicit is better than implicit.\n",
      "Simple is better than complex.\n",
      "Complex is better than complicated.\n",
      "Flat is better than nested.\n",
      "Sparse is better than dense.\n",
      "Readability counts.\n",
      "Special cases aren't special enough to break the rules.\n",
      "Although practicality beats purity.\n",
      "Errors should never pass silently.\n",
      "Unless explicitly silenced.\n",
      "In the face of ambiguity, refuse the temptation to guess.\n",
      "There should be one-- and preferably only one --obvious way to do it.\n",
      "Although that way may not be obvious at first unless you're Dutch.\n",
      "Now is better than never.\n",
      "Although never is often better than *right* now.\n",
      "If the implementation is hard to explain, it's a bad idea.\n",
      "If the implementation is easy to explain, it may be a good idea.\n",
      "Namespaces are one honking great idea -- let's do more of those!\n"
     ]
    }
   ],
   "source": [
    "import this"
   ]
  },
  {
   "cell_type": "code",
   "execution_count": 2,
   "id": "rapid-planet",
   "metadata": {},
   "outputs": [],
   "source": [
    "import csv"
   ]
  },
  {
   "cell_type": "code",
   "execution_count": 3,
   "id": "endangered-balance",
   "metadata": {},
   "outputs": [],
   "source": [
    "with open('../data/arbres.csv', newline='') as f:\n",
    "    reader=csv.reader(f)\n",
    "    data=list(reader)"
   ]
  },
  {
   "cell_type": "markdown",
   "id": "approved-partnership",
   "metadata": {},
   "source": [
    "Extraire la première et la seconde ligne du fichier puis extraire la 2nd colonne."
   ]
  },
  {
   "cell_type": "code",
   "execution_count": 4,
   "id": "sapphire-waste",
   "metadata": {},
   "outputs": [],
   "source": [
    "d0 = data[0]\n",
    "d1 = data[1]\n",
    "#print(d0)\n",
    "#print(d1)\n",
    "c2_data = [row[1] for row in data[1:]]\n",
    "#print(tmp)"
   ]
  },
  {
   "cell_type": "markdown",
   "id": "caring-nelson",
   "metadata": {},
   "source": [
    "récupérer la colonne correspondant à l'année de plantation\n",
    "la lg suivante permet d'extraire la colonne 19 dans le fichier data\n",
    "en omettant la première ligne qui correspond au titre"
   ]
  },
  {
   "cell_type": "code",
   "execution_count": 5,
   "id": "mexican-letters",
   "metadata": {
    "scrolled": false
   },
   "outputs": [],
   "source": [
    "annees = [row[19] for row in data[1:]]\n",
    "#annees"
   ]
  },
  {
   "cell_type": "markdown",
   "id": "optional-factory",
   "metadata": {},
   "source": [
    "Afficher les 50 premières lignes et les 50 dernières lignes de cette liste. ○ List slicing : https://www.geeksforgeeks.org/python-list-slicing/ "
   ]
  },
  {
   "cell_type": "code",
   "execution_count": 6,
   "id": "double-surprise",
   "metadata": {},
   "outputs": [
    {
     "name": "stdout",
     "output_type": "stream",
     "text": [
      "['1987', '1996', '2014', '2014', '2014', '2014', '1981', '1981', '1981', '1981', '1981', '2014', '1981', '1981', '1981', '1981', '1981', '2006', '2006', '1981', '1981', '2005', '2005', '1980', '1980', '1980', '1980', '2001', '2001', '2001', '2001', '2001', '2008', '2001', '2001', '2001', '2001', '2008', '2001', '2001', '2001', '2001', '2001', '2001', '2001', '2001', '2001', '2001', '2008', '2001']\n"
     ]
    }
   ],
   "source": [
    "p50 = annees[0:50]\n",
    "d50 = annees[len(annees)-50:len(annees)]\n",
    "#print(p50)\n",
    "print(d50)"
   ]
  },
  {
   "cell_type": "markdown",
   "id": "canadian-irrigation",
   "metadata": {},
   "source": [
    "Combien d’arbres sont recensés dans ce jeu de données ? \n",
    "○ Function len : https://www.w3schools.com/python/ref_func_len.asp"
   ]
  },
  {
   "cell_type": "code",
   "execution_count": 7,
   "id": "hawaiian-headline",
   "metadata": {},
   "outputs": [
    {
     "data": {
      "text/plain": [
       "31874"
      ]
     },
     "execution_count": 7,
     "metadata": {},
     "output_type": "execute_result"
    }
   ],
   "source": [
    "len(annees)"
   ]
  },
  {
   "cell_type": "markdown",
   "id": "charitable-proposal",
   "metadata": {},
   "source": [
    "Pour combien d’arbres manque-t-il l’information concernant la date de plantation ? (Vous pouvez essayer de le faire d’au moins deux manières différentes.) \n",
    "○ Function count : \n",
    "https://www.programiz.com/python-programming/methods/list/count\n"
   ]
  },
  {
   "cell_type": "code",
   "execution_count": 8,
   "id": "mobile-syndrome",
   "metadata": {},
   "outputs": [
    {
     "name": "stdout",
     "output_type": "stream",
     "text": [
      "The count of empty is: 1007\n"
     ]
    }
   ],
   "source": [
    "count_missing = annees.count('')\n",
    "# print count\n",
    "print('The count of empty is:', count_missing)"
   ]
  },
  {
   "cell_type": "markdown",
   "id": "packed-aside",
   "metadata": {},
   "source": [
    "❏ Combien d’arbres ont été plantés l’année de votre naissance ? "
   ]
  },
  {
   "cell_type": "code",
   "execution_count": 9,
   "id": "lovely-rover",
   "metadata": {
    "scrolled": false
   },
   "outputs": [
    {
     "name": "stdout",
     "output_type": "stream",
     "text": [
      "Since you were born 15088 trees were planted in Grenoble\n"
     ]
    }
   ],
   "source": [
    "yb = 1987 #year of birth\n",
    "#replace '' by 0\n",
    "annees_c=list(annees) #copy list annees\n",
    "tmp=[annees_c.remove('') for n in annees_c[:] if n==''] #remove '' in list annees_c\n",
    "#count trees since year of birth\n",
    "count_sinceb = [n for n in annees_c[:] if float(n) >= yb] #get the year of plantation if it's in or after birthyear\n",
    "print(\"Since you were born\",len(count_sinceb),\"trees were planted in Grenoble\")"
   ]
  },
  {
   "cell_type": "markdown",
   "id": "pediatric-coast",
   "metadata": {},
   "source": [
    "Quelle est la plus ancienne année de plantation recensée dans ce dataset ? La plus récente ? "
   ]
  },
  {
   "cell_type": "code",
   "execution_count": 10,
   "id": "enabling-titanium",
   "metadata": {},
   "outputs": [
    {
     "name": "stdout",
     "output_type": "stream",
     "text": [
      "First tree was planted in Grenoble in 1924\n",
      "Last tree was planted in Grenoble in 2019\n"
     ]
    }
   ],
   "source": [
    "annees_min=min(annees_c)\n",
    "annees_max=max(annees_c)\n",
    "print(\"First tree was planted in Grenoble in\",annees_min)\n",
    "print(\"Last tree was planted in Grenoble in\",annees_max)"
   ]
  },
  {
   "cell_type": "markdown",
   "id": "optimum-mortality",
   "metadata": {},
   "source": [
    "Combien d’arbres ont été plantés année par année (ex : 1987 : 771, 1988 : 266, etc…) ?"
   ]
  },
  {
   "cell_type": "code",
   "execution_count": 11,
   "id": "shaped-bailey",
   "metadata": {},
   "outputs": [
    {
     "name": "stdout",
     "output_type": "stream",
     "text": [
      "[{'1924': 12}, {'1944': 27}, {'1950': 403}, {'1955': 118}, {'1959': 16}, {'1960': 710}, {'1964': 6}, {'1965': 741}, {'1966': 87}, {'1967': 55}, {'1968': 111}, {'1969': 315}, {'1970': 1385}, {'1971': 69}, {'1972': 338}, {'1973': 33}, {'1974': 292}, {'1975': 3766}, {'1976': 927}, {'1977': 606}, {'1978': 853}, {'1979': 342}, {'1980': 1495}, {'1981': 606}, {'1982': 373}, {'1983': 304}, {'1984': 650}, {'1985': 911}, {'1986': 228}, {'1987': 729}, {'1988': 254}, {'1989': 302}, {'1990': 344}, {'1991': 142}, {'1992': 223}, {'1993': 141}, {'1994': 272}, {'1995': 747}, {'1996': 372}, {'1997': 233}, {'1998': 215}, {'1999': 577}, {'2000': 441}, {'2001': 1594}, {'2002': 322}, {'2003': 345}, {'2004': 349}, {'2005': 397}, {'2006': 595}, {'2007': 147}, {'2008': 215}, {'2009': 669}, {'2010': 458}, {'2011': 509}, {'2012': 326}, {'2013': 319}, {'2014': 899}, {'2015': 1015}, {'2016': 515}, {'2017': 638}, {'2018': 778}]\n"
     ]
    }
   ],
   "source": [
    "list_annees=list(range(int(annees_min),int(annees_max)))\n",
    "count_by_year=[{str(n):annees_c.count(str(n))} for n in list_annees if annees_c.count(str(n))!=0]\n",
    "print(count_by_year)"
   ]
  },
  {
   "cell_type": "markdown",
   "id": "dated-breed",
   "metadata": {},
   "source": [
    " Combien d’arbres ont été plantés en moyenne chaque année ? ○ Moyenne d’une liste de deux manières : \n",
    "https://www.geeksforgeeks.org/find-average-list-python/ "
   ]
  },
  {
   "cell_type": "code",
   "execution_count": 12,
   "id": "amateur-prize",
   "metadata": {},
   "outputs": [
    {
     "name": "stdout",
     "output_type": "stream",
     "text": [
      "506\n"
     ]
    }
   ],
   "source": [
    "list_count_by_year=[annees_c.count(str(n)) for n in list_annees if annees_c.count(str(n))!=0]\n",
    "list__year=[n for n in list_annees if annees_c.count(str(n))!=0]\n",
    "#print(list__year)\n",
    "\n",
    "# Python program to get average of a list \n",
    "def Average(lst): \n",
    "    return sum(lst) / len(lst) \n",
    "\n",
    "average_tree_year = round(Average(list_count_by_year)) \n",
    "print(average_tree_year)"
   ]
  },
  {
   "cell_type": "markdown",
   "id": "listed-antibody",
   "metadata": {},
   "source": [
    " Quel Maire a planté le plus d’arbres à Grenoble ? \n",
    " \n",
    "liste maire par annee = http://dictionnaire.sensagent.leparisien.fr/Liste%20des%20maires%20de%20Grenoble/fr-fr/"
   ]
  },
  {
   "cell_type": "code",
   "execution_count": 13,
   "id": "included-aspect",
   "metadata": {},
   "outputs": [
    {
     "name": "stdout",
     "output_type": "stream",
     "text": [
      "Hubert Dubedout est le maire qui a planté le plus d'arbres, respectivement 12394\n"
     ]
    }
   ],
   "source": [
    "def trees_by_mayor(m,deb_mandat):\n",
    "    if m == (len(deb_mandat)-1) :\n",
    "        L_years = list(range(deb_mandat[m],2022))\n",
    "    else :        \n",
    "        L_years = list(range(deb_mandat[m],deb_mandat[m+1]))\n",
    "#    print(L_years)\n",
    "\n",
    "    nb_trees=0\n",
    "    for n in range(len(L_years)):\n",
    "        if annees_c.count(str(L_years[n]))!=0 :\n",
    "            nb_trees=annees_c.count(str(L_years[n]))+nb_trees      \n",
    "    return nb_trees\n",
    "\n",
    "#%%%%%%%%%%%%%%%%% Code à améliorer %%%%%%%%%%%%%%%%%%%%%%\n",
    "'''maires = {\n",
    "    \"Paul Mistral\":1924,\n",
    "    \"Hubert Dubedout\":1965,\n",
    "    \"Eric Piolle\":2014\n",
    "}\n",
    "for m,y in maires.items():\n",
    "    print(\"maire :\", m)\n",
    "    print(\"Année :\", y)\n",
    "    \n",
    "    \n",
    "maires = [\"Paul\", \"Pierre\", \"Jacques\"]\n",
    "annees = [1952, 1963, 1969]\n",
    "for m, y in zip(maires, annees):\n",
    "    print(\"maire :\", m)\n",
    "    print(\"Année :\", y)'''\n",
    "\n",
    "deb_mandat=[1924,1932, 1935,1944,1945,1947,1948,1949,1959,1965,1983,1995,2014]\n",
    "maires=[\"Paul Mistral\",\"Leon Martin\",\"Paul Cocat\",\"Frédéric Lafleur\",\"Léon Martin\",\"Marius Bally\",\\\n",
    "\"Raymond Perinetti\",\"Léon Martin\",\"Albert Michallon\",\"Hubert Dubedout\",\"Alain Carignon\",\\\n",
    "\"Michel Destot\", \"Eric Piolles\"]\n",
    "#print(len(deb_mandat))\n",
    "max_trees_maire=0\n",
    "for n in range(len(deb_mandat)):\n",
    "    trees_m=trees_by_mayor(n,deb_mandat)\n",
    "    if trees_m>max_trees_maire :\n",
    "        ind_trees=n\n",
    "        max_trees_maire=trees_m\n",
    "        \n",
    "print(maires[ind_trees],\"est le maire qui a planté le plus d'arbres, respectivement\",max_trees_maire )"
   ]
  },
  {
   "cell_type": "markdown",
   "id": "possible-blame",
   "metadata": {},
   "source": [
    "Récupérez maintenant l’information concernant le genre botanique et la stocker conjointement avec l’année de plantation dans un tuple. Les tuples seront stockés dans une liste (ex : [ (‘1987’, 771), (‘1988’, 266), ….. ] ) ○ Les tuples en python : https://courspython.com/tuple.html "
   ]
  },
  {
   "cell_type": "code",
   "execution_count": 14,
   "id": "acoustic-artist",
   "metadata": {},
   "outputs": [
    {
     "ename": "NameError",
     "evalue": "name 'index' is not defined",
     "output_type": "error",
     "traceback": [
      "\u001b[1;31m---------------------------------------------------------------------------\u001b[0m",
      "\u001b[1;31mNameError\u001b[0m                                 Traceback (most recent call last)",
      "\u001b[1;32m<ipython-input-14-0bf985ae62e7>\u001b[0m in \u001b[0;36m<module>\u001b[1;34m\u001b[0m\n\u001b[0;32m      1\u001b[0m \u001b[0mind\u001b[0m \u001b[1;33m=\u001b[0m \u001b[0md0\u001b[0m\u001b[1;33m.\u001b[0m\u001b[0mindex\u001b[0m\u001b[1;33m(\u001b[0m\u001b[1;34m'GENRE_BOTA'\u001b[0m\u001b[1;33m)\u001b[0m\u001b[1;33m\u001b[0m\u001b[1;33m\u001b[0m\u001b[0m\n\u001b[1;32m----> 2\u001b[1;33m \u001b[0mgenre\u001b[0m \u001b[1;33m=\u001b[0m \u001b[1;33m[\u001b[0m\u001b[0mrow\u001b[0m\u001b[1;33m[\u001b[0m\u001b[0mindex\u001b[0m\u001b[1;33m]\u001b[0m \u001b[1;32mfor\u001b[0m \u001b[0mrow\u001b[0m \u001b[1;32min\u001b[0m \u001b[0mdata\u001b[0m\u001b[1;33m[\u001b[0m\u001b[1;36m1\u001b[0m\u001b[1;33m:\u001b[0m\u001b[1;36m10\u001b[0m\u001b[1;33m]\u001b[0m\u001b[1;33m]\u001b[0m\u001b[1;33m\u001b[0m\u001b[1;33m\u001b[0m\u001b[0m\n\u001b[0m\u001b[0;32m      3\u001b[0m \u001b[0mannees\u001b[0m \u001b[1;33m=\u001b[0m \u001b[1;33m[\u001b[0m\u001b[0mrow\u001b[0m\u001b[1;33m[\u001b[0m\u001b[1;36m19\u001b[0m\u001b[1;33m]\u001b[0m \u001b[1;32mfor\u001b[0m \u001b[0mrow\u001b[0m \u001b[1;32min\u001b[0m \u001b[0mdata\u001b[0m\u001b[1;33m[\u001b[0m\u001b[1;36m1\u001b[0m\u001b[1;33m:\u001b[0m\u001b[1;36m10\u001b[0m\u001b[1;33m]\u001b[0m\u001b[1;33m]\u001b[0m\u001b[1;33m\u001b[0m\u001b[1;33m\u001b[0m\u001b[0m\n\u001b[0;32m      4\u001b[0m \u001b[0mannees_genre\u001b[0m\u001b[1;33m=\u001b[0m\u001b[0mzip\u001b[0m\u001b[1;33m(\u001b[0m\u001b[0mannees\u001b[0m\u001b[1;33m,\u001b[0m \u001b[0mgenre\u001b[0m\u001b[1;33m)\u001b[0m\u001b[1;33m\u001b[0m\u001b[1;33m\u001b[0m\u001b[0m\n\u001b[0;32m      5\u001b[0m \u001b[1;33m\u001b[0m\u001b[0m\n",
      "\u001b[1;32m<ipython-input-14-0bf985ae62e7>\u001b[0m in \u001b[0;36m<listcomp>\u001b[1;34m(.0)\u001b[0m\n\u001b[0;32m      1\u001b[0m \u001b[0mind\u001b[0m \u001b[1;33m=\u001b[0m \u001b[0md0\u001b[0m\u001b[1;33m.\u001b[0m\u001b[0mindex\u001b[0m\u001b[1;33m(\u001b[0m\u001b[1;34m'GENRE_BOTA'\u001b[0m\u001b[1;33m)\u001b[0m\u001b[1;33m\u001b[0m\u001b[1;33m\u001b[0m\u001b[0m\n\u001b[1;32m----> 2\u001b[1;33m \u001b[0mgenre\u001b[0m \u001b[1;33m=\u001b[0m \u001b[1;33m[\u001b[0m\u001b[0mrow\u001b[0m\u001b[1;33m[\u001b[0m\u001b[0mindex\u001b[0m\u001b[1;33m]\u001b[0m \u001b[1;32mfor\u001b[0m \u001b[0mrow\u001b[0m \u001b[1;32min\u001b[0m \u001b[0mdata\u001b[0m\u001b[1;33m[\u001b[0m\u001b[1;36m1\u001b[0m\u001b[1;33m:\u001b[0m\u001b[1;36m10\u001b[0m\u001b[1;33m]\u001b[0m\u001b[1;33m]\u001b[0m\u001b[1;33m\u001b[0m\u001b[1;33m\u001b[0m\u001b[0m\n\u001b[0m\u001b[0;32m      3\u001b[0m \u001b[0mannees\u001b[0m \u001b[1;33m=\u001b[0m \u001b[1;33m[\u001b[0m\u001b[0mrow\u001b[0m\u001b[1;33m[\u001b[0m\u001b[1;36m19\u001b[0m\u001b[1;33m]\u001b[0m \u001b[1;32mfor\u001b[0m \u001b[0mrow\u001b[0m \u001b[1;32min\u001b[0m \u001b[0mdata\u001b[0m\u001b[1;33m[\u001b[0m\u001b[1;36m1\u001b[0m\u001b[1;33m:\u001b[0m\u001b[1;36m10\u001b[0m\u001b[1;33m]\u001b[0m\u001b[1;33m]\u001b[0m\u001b[1;33m\u001b[0m\u001b[1;33m\u001b[0m\u001b[0m\n\u001b[0;32m      4\u001b[0m \u001b[0mannees_genre\u001b[0m\u001b[1;33m=\u001b[0m\u001b[0mzip\u001b[0m\u001b[1;33m(\u001b[0m\u001b[0mannees\u001b[0m\u001b[1;33m,\u001b[0m \u001b[0mgenre\u001b[0m\u001b[1;33m)\u001b[0m\u001b[1;33m\u001b[0m\u001b[1;33m\u001b[0m\u001b[0m\n\u001b[0;32m      5\u001b[0m \u001b[1;33m\u001b[0m\u001b[0m\n",
      "\u001b[1;31mNameError\u001b[0m: name 'index' is not defined"
     ]
    }
   ],
   "source": [
    "ind = d0.index('GENRE_BOTA')\n",
    "genre = [row[index] for row in data[1:10]]\n",
    "annees = [row[19] for row in data[1:10]]\n",
    "annees_genre=zip(annees, genre)\n",
    "\n",
    "#for y, g in annees_genre:\n",
    "#   print(\"annee :\", y)\n",
    "#   print(\"genre :\", g)\n"
   ]
  },
  {
   "cell_type": "markdown",
   "id": "cleared-netherlands",
   "metadata": {},
   "source": [
    "Pour combien d'arbres manque-t-il l’information concernant le genre botanique ? "
   ]
  },
  {
   "cell_type": "code",
   "execution_count": 15,
   "id": "front-liquid",
   "metadata": {},
   "outputs": [
    {
     "ename": "NameError",
     "evalue": "name 'annees_genre' is not defined",
     "output_type": "error",
     "traceback": [
      "\u001b[1;31m---------------------------------------------------------------------------\u001b[0m",
      "\u001b[1;31mNameError\u001b[0m                                 Traceback (most recent call last)",
      "\u001b[1;32m<ipython-input-15-a555afc2f87f>\u001b[0m in \u001b[0;36m<module>\u001b[1;34m\u001b[0m\n\u001b[1;32m----> 1\u001b[1;33m \u001b[1;32mfor\u001b[0m \u001b[0my\u001b[0m\u001b[1;33m,\u001b[0m \u001b[0mg\u001b[0m \u001b[1;32min\u001b[0m \u001b[0mannees_genre\u001b[0m\u001b[1;33m:\u001b[0m\u001b[1;33m\u001b[0m\u001b[1;33m\u001b[0m\u001b[0m\n\u001b[0m\u001b[0;32m      2\u001b[0m     \u001b[0mprint\u001b[0m\u001b[1;33m(\u001b[0m\u001b[1;34m\"annee :\"\u001b[0m\u001b[1;33m,\u001b[0m \u001b[0my\u001b[0m\u001b[1;33m)\u001b[0m\u001b[1;33m\u001b[0m\u001b[1;33m\u001b[0m\u001b[0m\n\u001b[0;32m      3\u001b[0m     \u001b[0mprint\u001b[0m\u001b[1;33m(\u001b[0m\u001b[1;34m\"genre :\"\u001b[0m\u001b[1;33m,\u001b[0m \u001b[0mg\u001b[0m\u001b[1;33m)\u001b[0m\u001b[1;33m\u001b[0m\u001b[1;33m\u001b[0m\u001b[0m\n\u001b[0;32m      4\u001b[0m \u001b[1;31m#   count_missing = g.count('')\u001b[0m\u001b[1;33m\u001b[0m\u001b[1;33m\u001b[0m\u001b[1;33m\u001b[0m\u001b[0m\n\u001b[0;32m      5\u001b[0m \u001b[1;31m#print count\u001b[0m\u001b[1;33m\u001b[0m\u001b[1;33m\u001b[0m\u001b[1;33m\u001b[0m\u001b[0m\n",
      "\u001b[1;31mNameError\u001b[0m: name 'annees_genre' is not defined"
     ]
    }
   ],
   "source": [
    "for y, g in annees_genre:\n",
    "    print(\"annee :\", y)\n",
    "    print(\"genre :\", g)\n",
    "#   count_missing = g.count('')\n",
    "#print count\n",
    "#print('The count of empty is:', count_missing)"
   ]
  },
  {
   "cell_type": "markdown",
   "id": "noted-abuse",
   "metadata": {},
   "source": [
    "Utilisez Matplotlib pour tracer l’histogramme représentant le nombre d’arbres plantés par année. \n",
    "○ Exemple : \n",
    "https://www.kite.com/python/answers/how-to-plot-a-histogram-from-a-list-in-matplotlib-in-python \n",
    "○ Doc officielle : \n",
    "https://matplotlib.org/stable/api/_as_gen/matplotlib.pyplot.hist.html  "
   ]
  },
  {
   "cell_type": "code",
   "execution_count": null,
   "id": "arbitrary-metabolism",
   "metadata": {},
   "outputs": [],
   "source": []
  },
  {
   "cell_type": "markdown",
   "id": "norwegian-husband",
   "metadata": {},
   "source": [
    "(plus dur) Triez les tuples en fonction de l’année de plantation par ordre décroissant."
   ]
  }
 ],
 "metadata": {
  "kernelspec": {
   "display_name": "Python 3",
   "language": "python",
   "name": "python3"
  },
  "language_info": {
   "codemirror_mode": {
    "name": "ipython",
    "version": 3
   },
   "file_extension": ".py",
   "mimetype": "text/x-python",
   "name": "python",
   "nbconvert_exporter": "python",
   "pygments_lexer": "ipython3",
   "version": "3.8.8"
  },
  "toc": {
   "base_numbering": 1,
   "nav_menu": {},
   "number_sections": true,
   "sideBar": true,
   "skip_h1_title": false,
   "title_cell": "Table of Contents",
   "title_sidebar": "Contents",
   "toc_cell": false,
   "toc_position": {
    "height": "calc(100% - 180px)",
    "left": "10px",
    "top": "150px",
    "width": "165px"
   },
   "toc_section_display": true,
   "toc_window_display": false
  }
 },
 "nbformat": 4,
 "nbformat_minor": 5
}
